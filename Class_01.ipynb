{
 "cells": [
  {
   "cell_type": "markdown",
   "metadata": {},
   "source": [
    "# CLASS_01"
   ]
  },
  {
   "cell_type": "code",
   "execution_count": 1,
   "metadata": {},
   "outputs": [],
   "source": [
    "class restaurant():\n",
    "    def __init__(self,restaurant_name,cuisine_type):\n",
    "        self.name = restaurant_name\n",
    "        self.type = cuisine_type\n",
    "    def describe_restaurant(self):\n",
    "        print(\"The restaurant name is \" + self.name.title() )\n",
    "        print(\"and it is a \"+ self.type.upper() + ' restaurant' )\n",
    "    def restaurant_open(self):\n",
    "        print(\"restaurant is open now\")"
   ]
  },
  {
   "cell_type": "code",
   "execution_count": 2,
   "metadata": {},
   "outputs": [],
   "source": [
    "restaurant1 = restaurant('pak restaurant','BBQ')"
   ]
  },
  {
   "cell_type": "code",
   "execution_count": 3,
   "metadata": {},
   "outputs": [
    {
     "name": "stdout",
     "output_type": "stream",
     "text": [
      "restaurant is open now\n"
     ]
    }
   ],
   "source": [
    "restaurant1.restaurant_open()"
   ]
  },
  {
   "cell_type": "code",
   "execution_count": 4,
   "metadata": {},
   "outputs": [
    {
     "name": "stdout",
     "output_type": "stream",
     "text": [
      "The restaurant name is Pak Restaurant\n",
      "and it is a BBQ restaurant\n"
     ]
    }
   ],
   "source": [
    "restaurant1.describe_restaurant()"
   ]
  },
  {
   "cell_type": "code",
   "execution_count": 5,
   "metadata": {},
   "outputs": [],
   "source": [
    " class car():   \n",
    "        def __init__(self, make, model, year,odometer_reading):\n",
    "            self.make = make\n",
    "            self.model = model\n",
    "            self.year = year\n",
    "            self.reading = odometer_reading\n",
    "        def get_descriptive_name(self):\n",
    "            long_name ='this car was made in year '+ str(self.year) + ' and  this is a ' + self.make + ' ' + self.model\n",
    "            return long_name.title()\n",
    "        def odometer_reading(self):\n",
    "            print(\"this car has \" + str(self.reading) + \" miles on it\")\n",
    "        def update_odometer_reading(self,odometer_reading):\n",
    "            self.reading = odometer_reading"
   ]
  },
  {
   "cell_type": "code",
   "execution_count": 6,
   "metadata": {},
   "outputs": [],
   "source": [
    "car1 = car('toyota','Hilux Revo','2020','256')"
   ]
  },
  {
   "cell_type": "code",
   "execution_count": 7,
   "metadata": {},
   "outputs": [
    {
     "name": "stdout",
     "output_type": "stream",
     "text": [
      "this car has 256 miles on it\n"
     ]
    }
   ],
   "source": [
    "car1.odometer_reading()"
   ]
  },
  {
   "cell_type": "code",
   "execution_count": 8,
   "metadata": {},
   "outputs": [
    {
     "data": {
      "text/plain": [
       "'This Car Was Made In Year 2020 And  This Is A Toyota Hilux Revo'"
      ]
     },
     "execution_count": 8,
     "metadata": {},
     "output_type": "execute_result"
    }
   ],
   "source": [
    "car1.get_descriptive_name()\n"
   ]
  },
  {
   "cell_type": "code",
   "execution_count": 9,
   "metadata": {},
   "outputs": [],
   "source": [
    "my_car = car(\"Honda\",\"City\",\"2018\",\"0\")"
   ]
  },
  {
   "cell_type": "code",
   "execution_count": 10,
   "metadata": {},
   "outputs": [
    {
     "name": "stdout",
     "output_type": "stream",
     "text": [
      "this car has 0 miles on it\n"
     ]
    }
   ],
   "source": [
    "my_car.odometer_reading()"
   ]
  },
  {
   "cell_type": "code",
   "execution_count": 11,
   "metadata": {},
   "outputs": [],
   "source": [
    "my_car.reading = 2000"
   ]
  },
  {
   "cell_type": "code",
   "execution_count": 12,
   "metadata": {},
   "outputs": [
    {
     "name": "stdout",
     "output_type": "stream",
     "text": [
      "this car has 2000 miles on it\n"
     ]
    }
   ],
   "source": [
    "my_car.odometer_reading()"
   ]
  },
  {
   "cell_type": "code",
   "execution_count": 13,
   "metadata": {},
   "outputs": [],
   "source": [
    "my_car.update_odometer_reading(2)"
   ]
  },
  {
   "cell_type": "code",
   "execution_count": 14,
   "metadata": {},
   "outputs": [
    {
     "name": "stdout",
     "output_type": "stream",
     "text": [
      "this car has 2 miles on it\n"
     ]
    }
   ],
   "source": [
    "my_car.odometer_reading()"
   ]
  },
  {
   "cell_type": "code",
   "execution_count": 17,
   "metadata": {},
   "outputs": [
    {
     "name": "stdout",
     "output_type": "stream",
     "text": [
      "this car has 256 miles on it\n"
     ]
    }
   ],
   "source": [
    "car1.odometer_reading()"
   ]
  },
  {
   "cell_type": "code",
   "execution_count": 19,
   "metadata": {},
   "outputs": [
    {
     "name": "stdout",
     "output_type": "stream",
     "text": [
      "this car has 2 miles on it\n"
     ]
    }
   ],
   "source": [
    "my_car.odometer_reading()"
   ]
  },
  {
   "cell_type": "code",
   "execution_count": 20,
   "metadata": {},
   "outputs": [],
   "source": [
    "car1.update_odometer_reading(21)"
   ]
  },
  {
   "cell_type": "code",
   "execution_count": 22,
   "metadata": {},
   "outputs": [
    {
     "name": "stdout",
     "output_type": "stream",
     "text": [
      "this car has 21 miles on it\n"
     ]
    }
   ],
   "source": [
    "car1.odometer_reading()"
   ]
  },
  {
   "cell_type": "code",
   "execution_count": 23,
   "metadata": {},
   "outputs": [],
   "source": [
    "car2 = car('SUZUKI','alto','2021','0')"
   ]
  },
  {
   "cell_type": "code",
   "execution_count": 25,
   "metadata": {},
   "outputs": [
    {
     "name": "stdout",
     "output_type": "stream",
     "text": [
      "this car has 0 miles on it\n"
     ]
    }
   ],
   "source": [
    "car2.odometer_reading()"
   ]
  },
  {
   "cell_type": "code",
   "execution_count": null,
   "metadata": {},
   "outputs": [],
   "source": []
  }
 ],
 "metadata": {
  "kernelspec": {
   "display_name": "Python 3",
   "language": "python",
   "name": "python3"
  },
  "language_info": {
   "codemirror_mode": {
    "name": "ipython",
    "version": 3
   },
   "file_extension": ".py",
   "mimetype": "text/x-python",
   "name": "python",
   "nbconvert_exporter": "python",
   "pygments_lexer": "ipython3",
   "version": "3.7.6"
  }
 },
 "nbformat": 4,
 "nbformat_minor": 4
}

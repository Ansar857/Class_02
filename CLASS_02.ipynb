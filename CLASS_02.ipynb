{
 "cells": [
  {
   "cell_type": "markdown",
   "metadata": {},
   "source": [
    "# CLASS_02"
   ]
  },
  {
   "cell_type": "code",
   "execution_count": 1,
   "metadata": {},
   "outputs": [],
   "source": [
    "class restaurant:\n",
    "    def __init__(self,name,category,served_customer = 0):\n",
    "        self.restaurant_name = name\n",
    "        self.restaurant_category = category\n",
    "        self.served_customer = 0\n",
    "    def describe_restaurant(self):\n",
    "        print(\"the restaurant name is\", self.restaurant_name.title() , \"it is a/an\" , self.restaurant_category.title() ,\n",
    "              \"this restaurant has a capacity to serve people is\" , self.served_customer )\n",
    "    def set_served_customer(self,set_served_customer):\n",
    "        self.served_customer = set_served_customer\n",
    "        "
   ]
  },
  {
   "cell_type": "code",
   "execution_count": 2,
   "metadata": {},
   "outputs": [],
   "source": [
    "restaurant_01 = restaurant(\"Noorani\",\"BBQ\" , 90)"
   ]
  },
  {
   "cell_type": "code",
   "execution_count": 3,
   "metadata": {},
   "outputs": [
    {
     "name": "stdout",
     "output_type": "stream",
     "text": [
      "the restaurant name is Noorani it is a/an Bbq this restaurant has a capacity to serve people is 0\n"
     ]
    }
   ],
   "source": [
    "restaurant_01.describe_restaurant()"
   ]
  },
  {
   "cell_type": "code",
   "execution_count": 4,
   "metadata": {},
   "outputs": [],
   "source": [
    "restaurant_01.set_served_customer(90)"
   ]
  },
  {
   "cell_type": "code",
   "execution_count": 6,
   "metadata": {},
   "outputs": [
    {
     "name": "stdout",
     "output_type": "stream",
     "text": [
      "the restaurant name is Noorani it is a/an Bbq this restaurant has a capacity to serve people is 90\n"
     ]
    }
   ],
   "source": [
    "restaurant_01.describe_restaurant()"
   ]
  },
  {
   "cell_type": "code",
   "execution_count": 7,
   "metadata": {},
   "outputs": [],
   "source": [
    "restaurant_01.served_customer = 80\n"
   ]
  },
  {
   "cell_type": "code",
   "execution_count": 9,
   "metadata": {},
   "outputs": [
    {
     "name": "stdout",
     "output_type": "stream",
     "text": [
      "the restaurant name is Noorani it is a/an Bbq this restaurant has a capacity to serve people is 80\n"
     ]
    }
   ],
   "source": [
    "restaurant_01.describe_restaurant()"
   ]
  },
  {
   "cell_type": "code",
   "execution_count": 11,
   "metadata": {},
   "outputs": [],
   "source": [
    "restaurant_02 = restaurant(\"MAMA\",\"FAST FOOD\" , 2342342)"
   ]
  },
  {
   "cell_type": "code",
   "execution_count": 13,
   "metadata": {},
   "outputs": [
    {
     "name": "stdout",
     "output_type": "stream",
     "text": [
      "the restaurant name is Mama it is a/an Fast Food this restaurant has a capacity to serve people is 0\n"
     ]
    }
   ],
   "source": [
    "restaurant_02.describe_restaurant()"
   ]
  },
  {
   "cell_type": "code",
   "execution_count": 14,
   "metadata": {},
   "outputs": [],
   "source": [
    "restaurant_02.set_served_customer(2342342)"
   ]
  },
  {
   "cell_type": "code",
   "execution_count": 15,
   "metadata": {},
   "outputs": [
    {
     "name": "stdout",
     "output_type": "stream",
     "text": [
      "the restaurant name is Mama it is a/an Fast Food this restaurant has a capacity to serve people is 2342342\n"
     ]
    }
   ],
   "source": [
    "restaurant_02.describe_restaurant()"
   ]
  },
  {
   "cell_type": "code",
   "execution_count": 87,
   "metadata": {},
   "outputs": [],
   "source": [
    "class user:\n",
    "    def __init__(self,first_name,last_name = \"\",*other_info):\n",
    "        self.first_name = first_name\n",
    "        self.last_name = last_name\n",
    "        self.other_info = other_info\n",
    "    def describe_user(self):\n",
    "        full_name = self.first_name + \" \" + self.last_name\n",
    "        print(\"user name is \" , full_name , self.other_info)\n",
    "    def greet_user(self):\n",
    "        full_name = self.first_name + \" \" + self.last_name\n",
    "        print(\"Hi\" , full_name , \"How are you!\")\n",
    "        "
   ]
  },
  {
   "cell_type": "code",
   "execution_count": 88,
   "metadata": {},
   "outputs": [],
   "source": [
    "user_Hamza = user(\"HAMZA\",\"ASIF\", \" STUDIED AT DHACSS\",\"LIVE IN KARACHI\")"
   ]
  },
  {
   "cell_type": "code",
   "execution_count": 89,
   "metadata": {},
   "outputs": [
    {
     "name": "stdout",
     "output_type": "stream",
     "text": [
      "user name is  HAMZA ASIF (' STUDIED AT DHACSS', 'LIVE IN KARACHI')\n"
     ]
    }
   ],
   "source": [
    "user_Hamza.describe_user()"
   ]
  },
  {
   "cell_type": "code",
   "execution_count": 90,
   "metadata": {},
   "outputs": [
    {
     "name": "stdout",
     "output_type": "stream",
     "text": [
      "Hi HAMZA ASIF How are you!\n"
     ]
    }
   ],
   "source": [
    "user_Hamza.greet_user()"
   ]
  },
  {
   "cell_type": "code",
   "execution_count": 91,
   "metadata": {},
   "outputs": [],
   "source": [
    "user_01  = user(\"ANSAR\",\"ILYAS\")"
   ]
  },
  {
   "cell_type": "code",
   "execution_count": 92,
   "metadata": {},
   "outputs": [
    {
     "name": "stdout",
     "output_type": "stream",
     "text": [
      "Hi ANSAR ILYAS How are you!\n"
     ]
    }
   ],
   "source": [
    "user_01.greet_user()"
   ]
  },
  {
   "cell_type": "code",
   "execution_count": null,
   "metadata": {},
   "outputs": [],
   "source": []
  }
 ],
 "metadata": {
  "kernelspec": {
   "display_name": "Python 3",
   "language": "python",
   "name": "python3"
  },
  "language_info": {
   "codemirror_mode": {
    "name": "ipython",
    "version": 3
   },
   "file_extension": ".py",
   "mimetype": "text/x-python",
   "name": "python",
   "nbconvert_exporter": "python",
   "pygments_lexer": "ipython3",
   "version": "3.7.6"
  }
 },
 "nbformat": 4,
 "nbformat_minor": 4
}
